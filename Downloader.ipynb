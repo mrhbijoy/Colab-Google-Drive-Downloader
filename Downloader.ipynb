{
  "nbformat": 4,
  "nbformat_minor": 0,
  "metadata": {
    "colab": {
      "provenance": [],
      "authorship_tag": "ABX9TyPRMhe1tEa0K56AecSHD2hH",
      "include_colab_link": true
    },
    "kernelspec": {
      "name": "python3",
      "display_name": "Python 3"
    },
    "language_info": {
      "name": "python"
    }
  },
  "cells": [
    {
      "cell_type": "markdown",
      "metadata": {
        "id": "view-in-github",
        "colab_type": "text"
      },
      "source": [
        "<a href=\"https://colab.research.google.com/github/mrhbijoy/Colab-Google-Drive-Downloader/blob/main/Downloader.ipynb\" target=\"_parent\"><img src=\"https://colab.research.google.com/assets/colab-badge.svg\" alt=\"Open In Colab\"/></a>"
      ]
    },
    {
      "cell_type": "code",
      "execution_count": 2,
      "metadata": {
        "colab": {
          "base_uri": "https://localhost:8080/"
        },
        "id": "1xz_7aVvOzIH",
        "outputId": "2cad526d-c849-45b0-df56-abbecafbd7c3"
      },
      "outputs": [
        {
          "output_type": "stream",
          "name": "stdout",
          "text": [
            "Mounted at /content/gdrive\n"
          ]
        }
      ],
      "source": [
        "from google.colab import drive\n",
        "drive.mount('/content/gdrive')\n"
      ]
    },
    {
      "cell_type": "markdown",
      "source": [
        "**Files Downloader**"
      ],
      "metadata": {
        "id": "AhBoyXfj8Bgk"
      }
    },
    {
      "cell_type": "code",
      "source": [
        "import requests\n",
        "import os\n",
        "\n",
        "file_url = input(\"Enter the file URL: \")\n",
        "file_name = os.path.basename(file_url) # This will get the file name from the URL\n",
        "\n",
        "r = requests.get(file_url, stream = True)\n",
        "\n",
        "with open(\"/content/gdrive/My Drive/Files/\" + file_name, \"wb\") as file:\n",
        "\tfor block in r.iter_content(chunk_size = 1024):\n",
        "\t\tif block:\n",
        "\t\t\tfile.write(block)"
      ],
      "metadata": {
        "colab": {
          "base_uri": "https://localhost:8080/"
        },
        "id": "8mFs1PgO55eN",
        "outputId": "c2535dce-6509-4a88-bac6-bd8c819d44ec"
      },
      "execution_count": 9,
      "outputs": [
        {
          "name": "stdout",
          "output_type": "stream",
          "text": [
            "Enter the file URL: https://github.com/mrhbijoy/VSCode-Snippet-Generator/archive/refs/heads/main.zip\n"
          ]
        }
      ]
    },
    {
      "cell_type": "markdown",
      "source": [
        "**Torrent** **Dwnloader**"
      ],
      "metadata": {
        "id": "xVZlU_LN74p0"
      }
    },
    {
      "cell_type": "code",
      "metadata": {
        "id": "MbxBwyNADAyl"
      },
      "source": [
        "# Install Dependency\n",
        "! pip install lbry-libtorrent\n",
        "\n",
        "# Libraries Import\n",
        "import time\n",
        "import ipywidgets as widgets\n",
        "import libtorrent as lt\n",
        "\n",
        "from threading import Thread\n",
        "from IPython.display import display, clear_output\n",
        "\n",
        "# Server Start\n",
        "ses = lt.session()\n",
        "ses.listen_on(6881, 6891)\n",
        "\n",
        "# Torrent States\n",
        "state_str = [\n",
        "    \"queued\",\n",
        "    \"checking\",\n",
        "    \"downloading metadata\",\n",
        "    \"downloading\",\n",
        "    \"finished\",\n",
        "    \"seeding\",\n",
        "    \"allocating\",\n",
        "    \"checking fastresume\",\n",
        "]"
      ],
      "execution_count": null,
      "outputs": []
    },
    {
      "cell_type": "code",
      "metadata": {
        "id": "TYLT_c5dCpd0"
      },
      "source": [
        "downloads = []\n",
        "\n",
        "# Add Torrent\n",
        "def add_torrent():\n",
        "    params = {\"save_path\": \"/content/drive/My Drive/Torrent\"}\n",
        "    link = input(\"Enter Magnet Link or Torrent File URL: \")\n",
        "    downloads.append(\n",
        "        lt.add_magnet_uri(ses, link, params)\n",
        "    )\n",
        "\n",
        "# Remove Torrent\n",
        "def remove_torrent():\n",
        "    i = int(input(\"Enter your Choice : \"))\n",
        "    i-=1\n",
        "\n",
        "    for index, download in enumerate(downloads[:]):\n",
        "        if (index == i) :\n",
        "            ses.remove_torrent(download)\n",
        "            downloads.remove(download)\n",
        "            print(download.name(), \"Removed\")\n",
        "            break\n",
        "    else :\n",
        "        print(\"Torrent not found\")\n",
        "    time.sleep(2.5)\n",
        "\n",
        "# Torrent Speed\n",
        "def rate(val):\n",
        "    prefix = ['B', 'kB', 'MB', 'GB', 'TB']\n",
        "    for i in range(len(prefix)):\n",
        "        if abs(val) < 1000:\n",
        "            if i == 0:\n",
        "                return '%5.3g %s' % (val, prefix[i])\n",
        "            else:\n",
        "                return '%4.3g %s' % (val, prefix[i])\n",
        "        val /= 1000\n",
        "\n",
        "    return '%6.3g PB' % val"
      ],
      "execution_count": null,
      "outputs": []
    },
    {
      "cell_type": "code",
      "metadata": {
        "id": "m_D1VrT1CbJi"
      },
      "source": [
        "class output:\n",
        "    def __init__(self):\n",
        "        self._running = True\n",
        "\n",
        "    # Thread Killing\n",
        "    def kill(self):\n",
        "        self._running = False\n",
        "\n",
        "    # Print Status Bar\n",
        "    def show(self) :\n",
        "        layout = widgets.Layout(width=\"auto\")\n",
        "        style = {\"description_width\": \"initial\"}\n",
        "        download_bars = [\n",
        "            widgets.FloatSlider(\n",
        "                step=0.01, disabled=True, layout=layout, style=style\n",
        "            )\n",
        "            for _ in downloads\n",
        "        ]\n",
        "        display(*download_bars)\n",
        "\n",
        "        while self._running :\n",
        "            for index, download in enumerate(downloads[:]):\n",
        "                bar = download_bars[index]\n",
        "                s = download.status()\n",
        "                bar.value = s.progress * 100\n",
        "                bar.description = \" \".join(\n",
        "                    [\n",
        "                        str(index+1)+\". \\t\",\n",
        "                        download.name()[:25] +\n",
        "                        \"...\\t|\\t\",\n",
        "                        '%s/s | ' % rate(s.download_rate),\n",
        "                        '%s/s | ' % rate(s.upload_rate),\n",
        "                        '%s Done | ' % rate(s.total_done),\n",
        "                        state_str[s.state],\n",
        "                    ]\n",
        "                )\n",
        "            # time.sleep(1)"
      ],
      "execution_count": null,
      "outputs": []
    },
    {
      "cell_type": "code",
      "metadata": {
        "id": "b09BxnANO2ep"
      },
      "source": [
        "def main() :\n",
        "    if downloads == []:\n",
        "        print(\"No Torrent Found, Please add one\")\n",
        "        add_torrent()\n",
        "\n",
        "    while True:\n",
        "        clear_output()\n",
        "        print(\"No  Torrent Name.    D.Speed U.Speed Downloaded  Status   Progress\")\n",
        "\n",
        "        bar = output()\n",
        "        printing = Thread(target=bar.show)\n",
        "        printing.start()\n",
        "\n",
        "        time.sleep(2)\n",
        "\n",
        "        print(\"[A] Add Torrent \\t\\t [R] Remove Torrent \\t\\t [Q] Quit\")\n",
        "        choice = input(\"Enter Choice : \")\n",
        "\n",
        "        if choice.lower() == 'a':\n",
        "            bar.kill()\n",
        "            add_torrent()\n",
        "\n",
        "        elif choice.lower() == 'r':\n",
        "            bar.kill()\n",
        "            remove_torrent()\n",
        "\n",
        "        elif choice.lower() == 'q':\n",
        "            bar.kill()\n",
        "            print(\"Daemon Still Running\")\n",
        "            return\n",
        "\n",
        "        else :\n",
        "            bar.kill()\n",
        "            print(\"Wrong Choice\")\n",
        "\n",
        "if __name__ == \"__main__\" :\n",
        "    main()"
      ],
      "execution_count": null,
      "outputs": []
    }
  ]
}